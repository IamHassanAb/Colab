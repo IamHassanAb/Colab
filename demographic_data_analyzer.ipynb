{
  "nbformat": 4,
  "nbformat_minor": 0,
  "metadata": {
    "colab": {
      "name": "demographic-data-analyzer.ipynb",
      "provenance": [],
      "authorship_tag": "ABX9TyOTBB60BiO1w3Xx0XvflAp1",
      "include_colab_link": true
    },
    "kernelspec": {
      "name": "python3",
      "display_name": "Python 3"
    },
    "language_info": {
      "name": "python"
    }
  },
  "cells": [
    {
      "cell_type": "markdown",
      "metadata": {
        "id": "view-in-github",
        "colab_type": "text"
      },
      "source": [
        "<a href=\"https://colab.research.google.com/github/IamHassanAb/DataAnalytics-With-Python-Assignments-fcc/blob/main/demographic_data_analyzer.ipynb\" target=\"_parent\"><img src=\"https://colab.research.google.com/assets/colab-badge.svg\" alt=\"Open In Colab\"/></a>"
      ]
    },
    {
      "cell_type": "markdown",
      "metadata": {
        "id": "bfU6V9CveJo2"
      },
      "source": [
        "### Assignment\n",
        "\n",
        "# Demographic Data Analyzer\n",
        "\n",
        "In this challenge you must analyze demographic data using Pandas. You are given a dataset of demographic data that was extracted from the 1994 Census database. Here is a sample of what the data looks like:\n",
        "\n",
        "|    |   age | workclass        |   fnlwgt | education   |   education-num | marital-status     | occupation        | relationship   | race   | sex    |   capital-gain |   capital-loss |   hours-per-week | native-country   | salary   |\n",
        "|---:|------:|:-----------------|---------:|:------------|----------------:|:-------------------|:------------------|:---------------|:-------|:-------|---------------:|---------------:|-----------------:|:-----------------|:---------|\n",
        "|  0 |    39 | State-gov        |    77516 | Bachelors   |              13 | Never-married      | Adm-clerical      | Not-in-family  | White  | Male   |           2174 |              0 |               40 | United-States    | <=50K    |\n",
        "|  1 |    50 | Self-emp-not-inc |    83311 | Bachelors   |              13 | Married-civ-spouse | Exec-managerial   | Husband        | White  | Male   |              0 |              0 |               13 | United-States    | <=50K    |\n",
        "|  2 |    38 | Private          |   215646 | HS-grad     |               9 | Divorced           | Handlers-cleaners | Not-in-family  | White  | Male   |              0 |              0 |               40 | United-States    | <=50K    |\n",
        "|  3 |    53 | Private          |   234721 | 11th        |               7 | Married-civ-spouse | Handlers-cleaners | Husband        | Black  | Male   |              0 |              0 |               40 | United-States    | <=50K    |\n",
        "|  4 |    28 | Private          |   338409 | Bachelors   |              13 | Married-civ-spouse | Prof-specialty    | Wife           | Black  | Female |              0 |              0 |               40 | Cuba             | <=50K    |\n",
        "\n",
        "\n",
        "You must use Pandas to answer the following questions:\n",
        "* How many people of each race are represented in this dataset? This should be a Pandas series with race names as the index labels. (`race` column)\n",
        "* What is the average age of men?\n",
        "* What is the percentage of people who have a Bachelor's degree?\n",
        "* What percentage of people with advanced education (`Bachelors`, `Masters`, or `Doctorate`) make more than 50K?\n",
        "* What percentage of people without advanced education make more than 50K?\n",
        "* What is the minimum number of hours a person works per week?\n",
        "* What percentage of the people who work the minimum number of hours per week have a salary of more than 50K?\n",
        "* What country has the highest percentage of people that earn >50K and what is that percentage?\n",
        "* Identify the most popular occupation for those who earn >50K in India. \n",
        "\n",
        "Use the starter code in the file `demographic_data_analyzer`. Update the code so all variables set to \"None\" are set to the appropriate calculation or code. Round all decimals to the nearest tenth.\n",
        "\n",
        "Unit tests are written for you under `test_module.py`.\n",
        "\n",
        "### Development\n",
        "\n",
        "For development, you can use `main.py` to test your functions. Click the \"run\" button and `main.py` will run.\n",
        "\n",
        "### Testing \n",
        "\n",
        "We imported the tests from `test_module.py` to `main.py` for your convenience. The tests will run automatically whenever you hit the \"run\" button.\n",
        "\n",
        "### Submitting\n",
        "\n",
        "Copy your project's URL and submit it to freeCodeCamp.\n",
        "\n",
        "### Dataset Source\n",
        "\n",
        "Dua, D. and Graff, C. (2019). UCI Machine Learning Repository [http://archive.ics.uci.edu/ml]. Irvine, CA: University of California, School of Information and Computer Science."
      ]
    },
    {
      "cell_type": "code",
      "metadata": {
        "id": "pin1u1VG88RF"
      },
      "source": [
        "import pandas as pd"
      ],
      "execution_count": 84,
      "outputs": []
    },
    {
      "cell_type": "code",
      "metadata": {
        "id": "IoLRfXKW9rDW"
      },
      "source": [
        "# Read data from file\n",
        "\n",
        "df = pd.read_csv('/content/adult.data.csv') #Copy the path of the adult.data.csv(raw) here."
      ],
      "execution_count": 85,
      "outputs": []
    },
    {
      "cell_type": "code",
      "metadata": {
        "colab": {
          "base_uri": "https://localhost:8080/"
        },
        "id": "o_G8n7AO9eRl",
        "outputId": "097e0217-1ceb-43ab-bd83-b99460d275b4"
      },
      "source": [
        "# How many of each race are represented in this dataset? This should be a Pandas series with race names as the index labels.\n",
        "\n",
        "race_count = df['race'].value_counts()\n",
        "\n",
        "print('Total Number of races inside this dataset:\\n', race_count)"
      ],
      "execution_count": 89,
      "outputs": [
        {
          "output_type": "stream",
          "text": [
            "Total Number of races inside this dataset:\n",
            " White                 27816\n",
            "Black                  3124\n",
            "Asian-Pac-Islander     1039\n",
            "Amer-Indian-Eskimo      311\n",
            "Other                   271\n",
            "Name: race, dtype: int64\n"
          ],
          "name": "stdout"
        }
      ]
    },
    {
      "cell_type": "code",
      "metadata": {
        "colab": {
          "base_uri": "https://localhost:8080/"
        },
        "id": "EQTg30Ta9w3W",
        "outputId": "0354a6e8-eced-493d-da87-3f72444d6519"
      },
      "source": [
        "# What is the average age of men?\n",
        "\n",
        "average_age_men = round(df['age'][df['sex'] == 'Male'].mean(), 1)\n",
        "\n",
        "print('average age of men:', average_age_men)"
      ],
      "execution_count": 90,
      "outputs": [
        {
          "output_type": "stream",
          "text": [
            "average age of men: 39.4\n"
          ],
          "name": "stdout"
        }
      ]
    },
    {
      "cell_type": "code",
      "metadata": {
        "colab": {
          "base_uri": "https://localhost:8080/"
        },
        "id": "6i4GuDY-9zvG",
        "outputId": "e64894f9-a074-41e6-f396-2e5f10f96243"
      },
      "source": [
        "# What is the percentage of people who have a Bachelor's degree?\n",
        "\n",
        "percentage_bachelors = round(len(df[df['education'] == 'Bachelors'\n",
        "                            ]) / len(df) * 100, 1)\n",
        "\n",
        "print('percentage of people with Bachelors:',percentage_bachelors)"
      ],
      "execution_count": 91,
      "outputs": [
        {
          "output_type": "stream",
          "text": [
            "percentage of people with Bachelors: 16.4\n"
          ],
          "name": "stdout"
        }
      ]
    },
    {
      "cell_type": "code",
      "metadata": {
        "colab": {
          "base_uri": "https://localhost:8080/"
        },
        "id": "VPaT88Jj94JW",
        "outputId": "ca71e026-97de-45d4-f75f-da38869b3b10"
      },
      "source": [
        "# What percentage of people with advanced education (`Bachelors`, `Masters`, or `Doctorate`) make more than 50K?\n",
        "# What percentage of people without advanced education make more than 50K?\n",
        "\n",
        "mask1 = df.education.isin(['Bachelors', 'Masters', 'Doctorate'])\n",
        "\n",
        "# with and without `Bachelors`, `Masters`, or `Doctorate`\n",
        "\n",
        "higher_education = df[mask1]['education']\n",
        "lower_education = df[~mask1]['education']\n",
        "\n",
        "# percentage with salary >50K\n",
        "\n",
        "higher_education_rich = round(len(df[mask1 & df.salary.isin(['>50K'\n",
        "                            ])]) / len(df[mask1]) * 100, 1)\n",
        "lower_education_rich = round(len(df[~mask1 & df.salary.isin(['>50K'\n",
        "                            ])]) / len(df[~mask1]) * 100, 1)\n",
        "\n",
        "print('Percentage of rich people with Higher education:', higher_education_rich,'\\n')\n",
        "print('Percentage of rich people without Higher education:', lower_education_rich)"
      ],
      "execution_count": 94,
      "outputs": [
        {
          "output_type": "stream",
          "text": [
            "Percentage of rich people with Higher education: 46.5 \n",
            "\n",
            "Percentage of rich people without Higher education: 17.4\n"
          ],
          "name": "stdout"
        }
      ]
    },
    {
      "cell_type": "code",
      "metadata": {
        "colab": {
          "base_uri": "https://localhost:8080/"
        },
        "id": "EuhE2lUx9_im",
        "outputId": "a969eb58-287f-42f4-a677-130c6d81d9e0"
      },
      "source": [
        "# What is the minimum number of hours a person works per week (hours-per-week feature)?\n",
        "\n",
        "min_work_hours = df['hours-per-week'].min()\n",
        "\n",
        "print('Minimum working hours:', min_work_hours,'hours')"
      ],
      "execution_count": 96,
      "outputs": [
        {
          "output_type": "stream",
          "text": [
            "Minimum working hours: 1 hours\n"
          ],
          "name": "stdout"
        }
      ]
    },
    {
      "cell_type": "code",
      "metadata": {
        "colab": {
          "base_uri": "https://localhost:8080/"
        },
        "id": "zWlB3hnh-DZW",
        "outputId": "b71759a6-aec9-45a1-a94c-b3d732de3df9"
      },
      "source": [
        "\n",
        "# What percentage of the people who work the minimum number of hours per week have a salary of >50K?\n",
        "\n",
        "num_min_workers = df[df['hours-per-week']\n",
        "                    == min_work_hours]['salary'].count()\n",
        "\n",
        "\n",
        "rich_percentage = round(len(df[df['hours-per-week']\n",
        "                      == min_work_hours][df['salary'] == '>50K'])\n",
        "                      * 100 / num_min_workers, 1)\n",
        "\n",
        "print('Number of people with minimum working hours:',num_min_workers,'\\n')\n",
        "print('Percent of rich people with minimum working hours:', rich_percentage,'\\n')"
      ],
      "execution_count": 98,
      "outputs": [
        {
          "output_type": "stream",
          "text": [
            "Number of people with minimum working hours: 20 \n",
            "\n",
            "Percent of rich people with minimum working hours: 10.0 \n",
            "\n"
          ],
          "name": "stdout"
        },
        {
          "output_type": "stream",
          "text": [
            "/usr/local/lib/python3.7/dist-packages/ipykernel_launcher.py:10: UserWarning: Boolean Series key will be reindexed to match DataFrame index.\n",
            "  # Remove the CWD from sys.path while we load stuff.\n"
          ],
          "name": "stderr"
        }
      ]
    },
    {
      "cell_type": "code",
      "metadata": {
        "colab": {
          "base_uri": "https://localhost:8080/"
        },
        "id": "nm0DBhWG-Gqm",
        "outputId": "140ff371-b1d9-466f-d737-4bb2d2bf67e7"
      },
      "source": [
        "s = (df[df['salary'] == '>50K']['native-country'\n",
        "    ].value_counts().mul(100) / df['native-country'\n",
        "    ].value_counts()).to_frame()\n",
        "index = s[s['native-country'] == s['native-country'].max()].index[0]\n",
        "mask2 = df['native-country'] == index\n",
        "\n",
        "# What country has the highest percentage of people that earn >50K?\n",
        "\n",
        "highest_earning_country = index\n",
        "highest_earning_country_percentage = round(len(df[mask2\n",
        "      & df.salary.isin(['>50K'])]) * 100 / len(df[mask2]), 1)\n",
        "\n",
        "print('Highest Earning Country:',highest_earning_country,'\\n')\n",
        "print(f'''Percentage of rich people in {highest_earning_country}:''',highest_earning_country_percentage)"
      ],
      "execution_count": 103,
      "outputs": [
        {
          "output_type": "stream",
          "text": [
            "Highest Earning Country: Iran \n",
            "\n",
            "Percentage of rich people in Iran: 41.9\n"
          ],
          "name": "stdout"
        }
      ]
    },
    {
      "cell_type": "code",
      "metadata": {
        "colab": {
          "base_uri": "https://localhost:8080/"
        },
        "id": "fYqqogPZ-SgW",
        "outputId": "aac56fd5-10ef-4e20-8b96-517eda8c5c09"
      },
      "source": [
        "# Identify the most popular occupation for those who earn >50K in India.\n",
        "\n",
        "top_IN_occupation = df['occupation'][df['native-country'] == 'India'\n",
        "      ][df['salary'] == '>50K'].value_counts().to_frame().index[0]\n",
        "\n",
        "print('Top Paying Occupation in India:',top_IN_occupation)"
      ],
      "execution_count": 105,
      "outputs": [
        {
          "output_type": "stream",
          "text": [
            "Top Paying Occupation in India: Prof-specialty\n"
          ],
          "name": "stdout"
        }
      ]
    }
  ]
}