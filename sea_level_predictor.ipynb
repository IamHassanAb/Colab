{
  "nbformat": 4,
  "nbformat_minor": 0,
  "metadata": {
    "colab": {
      "name": "sea-level-predictor.ipynb",
      "provenance": [],
      "authorship_tag": "ABX9TyP6HxBr6crFidgjDrvmR71W",
      "include_colab_link": true
    },
    "kernelspec": {
      "name": "python3",
      "display_name": "Python 3"
    },
    "language_info": {
      "name": "python"
    }
  },
  "cells": [
    {
      "cell_type": "markdown",
      "metadata": {
        "id": "view-in-github",
        "colab_type": "text"
      },
      "source": [
        "<a href=\"https://colab.research.google.com/github/IamHassanAb/DataAnalytics-With-Python-Assignments-fcc/blob/main/sea_level_predictor.ipynb\" target=\"_parent\"><img src=\"https://colab.research.google.com/assets/colab-badge.svg\" alt=\"Open In Colab\"/></a>"
      ]
    },
    {
      "cell_type": "markdown",
      "metadata": {
        "id": "Cg_72Z3yOlvu"
      },
      "source": [
        "### Assignment\n",
        "\n",
        "You will anaylize a dataset of the global average sea level change since 1880. You will use the data to predict the sea level change through year 2050.\n",
        "\n",
        "Use the data to complete the following tasks:\n",
        "* Use Pandas to import the data from `epa-sea-level.csv`.\n",
        "* Use matplotlib to create a scatter plot using the \"Year\" column as the x-axis and the \"CSIRO Adjusted Sea Level\" column as the y-axix.\n",
        "* Use the `linregress` function from `scipy.stats` to get the slope and y-intercept of the line of best fit. Plot the line of best fit over the top of the scatter plot. Make the line go through the year 2050 to predict the sea level rise in 2050.\n",
        "* Plot a new line of best fit just using the data from year 2000 through the most recent year in the dataset. Make the line also go through the year 2050 to predict the sea level rise in 2050 if the rate of rise continues as it has since the year 2000.\n",
        "* The x label should be \"Year\", the y label should be \"Sea Level (inches)\", and the title should be \"Rise in Sea Level\".\n",
        "\n",
        "Unit tests are written for you under `test_module.py`.\n",
        "\n",
        "### Development\n",
        "\n",
        "For development, you can use `main.py` to test your functions. Click the \"run\" button and `main.py` will run.\n",
        "\n",
        "### Testing \n",
        "\n",
        "We imported the tests from `test_module.py` to `main.py` for your convenience. The tests will run automatically whenever you hit the \"run\" button.\n",
        "\n",
        "### Submitting\n",
        "\n",
        "Copy your project's URL and submit it to freeCodeCamp.\n",
        "\n",
        "### Data Source\n",
        "Global Average Absolute Sea Level Change, 1880-2014 from the US Environmental Protection Agency using data from CSIRO, 2015; NOAA, 2015.\n",
        "https://datahub.io/core/sea-level-rise\n"
      ]
    },
    {
      "cell_type": "code",
      "metadata": {
        "id": "8RDYfIT4Otda"
      },
      "source": [
        "import pandas as pd\n",
        "import matplotlib.pyplot as plt\n",
        "import numpy as np\n",
        "from scipy.stats import linregress"
      ],
      "execution_count": null,
      "outputs": []
    },
    {
      "cell_type": "code",
      "metadata": {
        "colab": {
          "base_uri": "https://localhost:8080/",
          "height": 424
        },
        "id": "PqYEgMLkO0Cq",
        "outputId": "e8ba29b3-2d81-4dc5-8b4b-4ee3647ade09"
      },
      "source": [
        "# Read data from file\n",
        "df = pd.read_csv('(PATH|URL)', delimiter=',') #You can exchange (PATH|URL) with the URL of the 'epa-sea-level.csv'  \n",
        "df "
      ],
      "execution_count": null,
      "outputs": [
        {
          "output_type": "execute_result",
          "data": {
            "text/html": [
              "<div>\n",
              "<style scoped>\n",
              "    .dataframe tbody tr th:only-of-type {\n",
              "        vertical-align: middle;\n",
              "    }\n",
              "\n",
              "    .dataframe tbody tr th {\n",
              "        vertical-align: top;\n",
              "    }\n",
              "\n",
              "    .dataframe thead th {\n",
              "        text-align: right;\n",
              "    }\n",
              "</style>\n",
              "<table border=\"1\" class=\"dataframe\">\n",
              "  <thead>\n",
              "    <tr style=\"text-align: right;\">\n",
              "      <th></th>\n",
              "      <th>Year</th>\n",
              "      <th>CSIRO Adjusted Sea Level</th>\n",
              "      <th>Lower Error Bound</th>\n",
              "      <th>Upper Error Bound</th>\n",
              "      <th>NOAA Adjusted Sea Level</th>\n",
              "    </tr>\n",
              "  </thead>\n",
              "  <tbody>\n",
              "    <tr>\n",
              "      <th>0</th>\n",
              "      <td>1880</td>\n",
              "      <td>0.000000</td>\n",
              "      <td>-0.952756</td>\n",
              "      <td>0.952756</td>\n",
              "      <td>NaN</td>\n",
              "    </tr>\n",
              "    <tr>\n",
              "      <th>1</th>\n",
              "      <td>1881</td>\n",
              "      <td>0.220472</td>\n",
              "      <td>-0.732283</td>\n",
              "      <td>1.173228</td>\n",
              "      <td>NaN</td>\n",
              "    </tr>\n",
              "    <tr>\n",
              "      <th>2</th>\n",
              "      <td>1882</td>\n",
              "      <td>-0.440945</td>\n",
              "      <td>-1.346457</td>\n",
              "      <td>0.464567</td>\n",
              "      <td>NaN</td>\n",
              "    </tr>\n",
              "    <tr>\n",
              "      <th>3</th>\n",
              "      <td>1883</td>\n",
              "      <td>-0.232283</td>\n",
              "      <td>-1.129921</td>\n",
              "      <td>0.665354</td>\n",
              "      <td>NaN</td>\n",
              "    </tr>\n",
              "    <tr>\n",
              "      <th>4</th>\n",
              "      <td>1884</td>\n",
              "      <td>0.590551</td>\n",
              "      <td>-0.283465</td>\n",
              "      <td>1.464567</td>\n",
              "      <td>NaN</td>\n",
              "    </tr>\n",
              "    <tr>\n",
              "      <th>...</th>\n",
              "      <td>...</td>\n",
              "      <td>...</td>\n",
              "      <td>...</td>\n",
              "      <td>...</td>\n",
              "      <td>...</td>\n",
              "    </tr>\n",
              "    <tr>\n",
              "      <th>129</th>\n",
              "      <td>2009</td>\n",
              "      <td>8.586614</td>\n",
              "      <td>8.311024</td>\n",
              "      <td>8.862205</td>\n",
              "      <td>8.046354</td>\n",
              "    </tr>\n",
              "    <tr>\n",
              "      <th>130</th>\n",
              "      <td>2010</td>\n",
              "      <td>8.901575</td>\n",
              "      <td>8.618110</td>\n",
              "      <td>9.185039</td>\n",
              "      <td>8.122973</td>\n",
              "    </tr>\n",
              "    <tr>\n",
              "      <th>131</th>\n",
              "      <td>2011</td>\n",
              "      <td>8.964567</td>\n",
              "      <td>8.661417</td>\n",
              "      <td>9.267717</td>\n",
              "      <td>8.053065</td>\n",
              "    </tr>\n",
              "    <tr>\n",
              "      <th>132</th>\n",
              "      <td>2012</td>\n",
              "      <td>9.326772</td>\n",
              "      <td>8.992126</td>\n",
              "      <td>9.661417</td>\n",
              "      <td>8.457058</td>\n",
              "    </tr>\n",
              "    <tr>\n",
              "      <th>133</th>\n",
              "      <td>2013</td>\n",
              "      <td>8.980315</td>\n",
              "      <td>8.622047</td>\n",
              "      <td>9.338583</td>\n",
              "      <td>8.546648</td>\n",
              "    </tr>\n",
              "  </tbody>\n",
              "</table>\n",
              "<p>134 rows × 5 columns</p>\n",
              "</div>"
            ],
            "text/plain": [
              "     Year  CSIRO Adjusted Sea Level  ...  Upper Error Bound  NOAA Adjusted Sea Level\n",
              "0    1880                  0.000000  ...           0.952756                      NaN\n",
              "1    1881                  0.220472  ...           1.173228                      NaN\n",
              "2    1882                 -0.440945  ...           0.464567                      NaN\n",
              "3    1883                 -0.232283  ...           0.665354                      NaN\n",
              "4    1884                  0.590551  ...           1.464567                      NaN\n",
              "..    ...                       ...  ...                ...                      ...\n",
              "129  2009                  8.586614  ...           8.862205                 8.046354\n",
              "130  2010                  8.901575  ...           9.185039                 8.122973\n",
              "131  2011                  8.964567  ...           9.267717                 8.053065\n",
              "132  2012                  9.326772  ...           9.661417                 8.457058\n",
              "133  2013                  8.980315  ...           9.338583                 8.546648\n",
              "\n",
              "[134 rows x 5 columns]"
            ]
          },
          "metadata": {},
          "execution_count": 5
        }
      ]
    },
    {
      "cell_type": "code",
      "metadata": {
        "colab": {
          "base_uri": "https://localhost:8080/",
          "height": 482
        },
        "id": "Yvjv4Co2uS28",
        "outputId": "8cffe638-75eb-4a80-dcaf-c06bdaa01f54"
      },
      "source": [
        "Line1 = linregress(df['Year'], df['CSIRO Adjusted Sea Level'])\n",
        "(slope_1, intercept_1, r_1, p_1, std_err_1) = Line1\n",
        "\n",
        "Line2 = linregress(df['Year'][df['Year'] >= 2000],\n",
        "                    df['CSIRO Adjusted Sea Level'][df['Year']\n",
        "                    >= 2000])\n",
        "(slope_2, intercept_2, r_2, p_2, std_err_2) = Line2\n",
        "\n",
        "# Create scatter plot\n",
        "\n",
        "(fig, ax) = plt.subplots()\n",
        "plt.scatter(df['Year'], df['CSIRO Adjusted Sea Level'])\n",
        "\n",
        "# Create first line of best fit\n",
        "\n",
        "plt.plot(range(df['Year'][0], 2051), slope_1 * range(df['Year'][0],\n",
        "          2051) + intercept_1)\n",
        "\n",
        "# Create second line of best fit\n",
        "\n",
        "plt.plot(range(2000, 2051), slope_2 * range(2000, 2051)\n",
        "          + intercept_2)\n",
        "\n",
        "# Add labels and title\n",
        "\n",
        "plt.xlabel('Year')\n",
        "plt.ylabel('Sea Level (inches)')\n",
        "plt.title('Rise in Sea Level')\n",
        "\n",
        "# Save plot and return data for testing (DO NOT MODIFY)\n",
        "\n",
        "plt.savefig('sea_level_plot.png')\n",
        "return plt.gca()"
      ],
      "execution_count": null,
      "outputs": [
        {
          "output_type": "error",
          "ename": "TypeError",
          "evalue": "ignored",
          "traceback": [
            "\u001b[0;31m---------------------------------------------------------------------------\u001b[0m",
            "\u001b[0;31mTypeError\u001b[0m                                 Traceback (most recent call last)",
            "\u001b[0;32m<ipython-input-79-eb1c634df019>\u001b[0m in \u001b[0;36m<module>\u001b[0;34m()\u001b[0m\n\u001b[1;32m     11\u001b[0m \u001b[0;34m\u001b[0m\u001b[0m\n\u001b[1;32m     12\u001b[0m \u001b[0;31m# Create first line of best fit\u001b[0m\u001b[0;34m\u001b[0m\u001b[0;34m\u001b[0m\u001b[0;34m\u001b[0m\u001b[0m\n\u001b[0;32m---> 13\u001b[0;31m \u001b[0mplt\u001b[0m\u001b[0;34m.\u001b[0m\u001b[0mplot\u001b[0m\u001b[0;34m(\u001b[0m\u001b[0mpd\u001b[0m\u001b[0;34m.\u001b[0m\u001b[0mSeries\u001b[0m\u001b[0;34m(\u001b[0m\u001b[0mrange\u001b[0m\u001b[0;34m(\u001b[0m\u001b[0mdf\u001b[0m\u001b[0;34m[\u001b[0m\u001b[0;34m'Year'\u001b[0m\u001b[0;34m]\u001b[0m\u001b[0;34m,\u001b[0m\u001b[0;36m2050\u001b[0m\u001b[0;34m)\u001b[0m\u001b[0;34m)\u001b[0m\u001b[0;34m,\u001b[0m \u001b[0mround\u001b[0m\u001b[0;34m(\u001b[0m\u001b[0mslope_1\u001b[0m\u001b[0;34m*\u001b[0m\u001b[0mpd\u001b[0m\u001b[0;34m.\u001b[0m\u001b[0mSeries\u001b[0m\u001b[0;34m(\u001b[0m\u001b[0mrange\u001b[0m\u001b[0;34m(\u001b[0m\u001b[0mdf\u001b[0m\u001b[0;34m[\u001b[0m\u001b[0;34m'Year'\u001b[0m\u001b[0;34m]\u001b[0m\u001b[0;34m,\u001b[0m\u001b[0;36m2050\u001b[0m\u001b[0;34m)\u001b[0m\u001b[0;34m)\u001b[0m\u001b[0;34m+\u001b[0m\u001b[0mintercept_1\u001b[0m\u001b[0;34m,\u001b[0m\u001b[0;36m7\u001b[0m\u001b[0;34m)\u001b[0m\u001b[0;34m)\u001b[0m\u001b[0;34m\u001b[0m\u001b[0;34m\u001b[0m\u001b[0m\n\u001b[0m\u001b[1;32m     14\u001b[0m \u001b[0;34m\u001b[0m\u001b[0m\n\u001b[1;32m     15\u001b[0m \u001b[0;31m# Create second line of best fit\u001b[0m\u001b[0;34m\u001b[0m\u001b[0;34m\u001b[0m\u001b[0;34m\u001b[0m\u001b[0m\n",
            "\u001b[0;31mTypeError\u001b[0m: 'Series' object cannot be interpreted as an integer"
          ]
        },
        {
          "output_type": "display_data",
          "data": {
            "image/png": "[encoded data removed]",
            "text/plain": [
              "<Figure size 432x288 with 1 Axes>"
            ]
          },
          "metadata": {
            "needs_background": "light"
          }
        }
      ]
    },
    {
      "cell_type": "code",
      "metadata": {
        "colab": {
          "base_uri": "https://localhost:8080/",
          "height": 265
        },
        "id": "PSQrquCvO354",
        "outputId": "394382a6-137c-4468-a9e6-d2edffe4c4a0"
      },
      "source": [
        "\n",
        "# # Create scatter plot\n",
        "# plt.scatter(df['Year'],df['CSIRO Adjusted Sea Level'])\n",
        "# plt.show()"
      ],
      "execution_count": null,
      "outputs": [
        {
          "output_type": "display_data",
          "data": {
            "image/png": "[encoded data removed]",
            "text/plain": [
              "<Figure size 432x288 with 1 Axes>"
            ]
          },
          "metadata": {
            "needs_background": "light"
          }
        }
      ]
    },
    {
      "cell_type": "code",
      "metadata": {
        "colab": {
          "base_uri": "https://localhost:8080/",
          "height": 1000
        },
        "id": "dqhhLf9LmjlQ",
        "outputId": "8aecee1a-6773-45d7-ff49-dc588b98fdd7"
      },
      "source": [
        "# # fig, ax = plt.subplots()\n",
        "# # plt.scatter(df['Year'],df['CSIRO Adjusted Sea Level'])\n",
        "# # # Create first line of best fit\n",
        "\n",
        "# # plt.plot(df['Year'], round(slope_1*df['Year']+intercept_1,7))\n",
        "\n",
        "# # # Create second line of best fit\n",
        "# # plt.plot(pd.Series(range(2000,2050)), round(slope_2*pd.Series(range(2000,2050)) + intercept_2,7))\n",
        "\n",
        "# # #_____________________________________#\n",
        "\n",
        "# # # Add labels and title\n",
        "# # plt.xlabel(\"Year\")\n",
        "# # plt.ylabel('Sea Level (inches)')\n",
        "# plt.title('Rise in Sea Level') \n"
      ],
      "execution_count": null,
      "outputs": [
        {
          "output_type": "execute_result",
          "data": {
            "text/plain": [
              "[-0.542124,\n",
              " -0.4790794,\n",
              " -0.4160349,\n",
              " -0.3529903,\n",
              " -0.2899457,\n",
              " -0.2269011,\n",
              " -0.1638565,\n",
              " -0.1008119,\n",
              " -0.0377674,\n",
              " 0.0252772,\n",
              " 0.0883218,\n",
              " 0.1513664,\n",
              " 0.214411,\n",
              " 0.2774556,\n",
              " 0.3405001,\n",
              " 0.4035447,\n",
              " 0.4665893,\n",
              " 0.5296339,\n",
              " 0.5926785,\n",
              " 0.6557231,\n",
              " 0.7187677,\n",
              " 0.7818122,\n",
              " 0.8448568,\n",
              " 0.9079014,\n",
              " 0.970946,\n",
              " 1.0339906,\n",
              " 1.0970352,\n",
              " 1.1600797,\n",
              " 1.2231243,\n",
              " 1.2861689,\n",
              " 1.3492135,\n",
              " 1.4122581,\n",
              " 1.4753027,\n",
              " 1.5383472,\n",
              " 1.6013918,\n",
              " 1.6644364,\n",
              " 1.727481,\n",
              " 1.7905256,\n",
              " 1.8535702,\n",
              " 1.9166148,\n",
              " 1.9796593,\n",
              " 2.0427039,\n",
              " 2.1057485,\n",
              " 2.1687931,\n",
              " 2.2318377,\n",
              " 2.2948823,\n",
              " 2.3579268,\n",
              " 2.4209714,\n",
              " 2.484016,\n",
              " 2.5470606,\n",
              " 2.6101052,\n",
              " 2.6731498,\n",
              " 2.7361943,\n",
              " 2.7992389,\n",
              " 2.8622835,\n",
              " 2.9253281,\n",
              " 2.9883727,\n",
              " 3.0514173,\n",
              " 3.1144618,\n",
              " 3.1775064,\n",
              " 3.240551,\n",
              " 3.3035956,\n",
              " 3.3666402,\n",
              " 3.4296848,\n",
              " 3.4927294,\n",
              " 3.5557739,\n",
              " 3.6188185,\n",
              " 3.6818631,\n",
              " 3.7449077,\n",
              " 3.8079523,\n",
              " 3.8709969,\n",
              " 3.9340414,\n",
              " 3.997086,\n",
              " 4.0601306,\n",
              " 4.1231752,\n",
              " 4.1862198,\n",
              " 4.2492644,\n",
              " 4.3123089,\n",
              " 4.3753535,\n",
              " 4.4383981,\n",
              " 4.5014427,\n",
              " 4.5644873,\n",
              " 4.6275319,\n",
              " 4.6905765,\n",
              " 4.753621,\n",
              " 4.8166656,\n",
              " 4.8797102,\n",
              " 4.9427548,\n",
              " 5.0057994,\n",
              " 5.068844,\n",
              " 5.1318885,\n",
              " 5.1949331,\n",
              " 5.2579777,\n",
              " 5.3210223,\n",
              " 5.3840669,\n",
              " 5.4471115,\n",
              " 5.510156,\n",
              " 5.5732006,\n",
              " 5.6362452,\n",
              " 5.6992898,\n",
              " 5.7623344,\n",
              " 5.825379,\n",
              " 5.8884235,\n",
              " 5.9514681,\n",
              " 6.0145127,\n",
              " 6.0775573,\n",
              " 6.1406019,\n",
              " 6.2036465,\n",
              " 6.2666911,\n",
              " 6.3297356,\n",
              " 6.3927802,\n",
              " 6.4558248,\n",
              " 6.5188694,\n",
              " 6.581914,\n",
              " 6.6449586,\n",
              " 6.7080031,\n",
              " 6.7710477,\n",
              " 6.8340923,\n",
              " 6.8971369,\n",
              " 6.9601815,\n",
              " 7.0232261,\n",
              " 7.0862706,\n",
              " 7.1493152,\n",
              " 7.2123598,\n",
              " 7.2754044,\n",
              " 7.338449,\n",
              " 7.4014936,\n",
              " 7.4645382,\n",
              " 7.5275827,\n",
              " 7.5906273,\n",
              " 7.6536719,\n",
              " 7.7167165,\n",
              " 7.7797611,\n",
              " 7.8428057]"
            ]
          },
          "metadata": {},
          "execution_count": 78
        },
        {
          "output_type": "display_data",
          "data": {
            "image/png": "[encoded data removed]",
            "text/plain": [
              "<Figure size 432x288 with 1 Axes>"
            ]
          },
          "metadata": {
            "needs_background": "light"
          }
        }
      ]
    },
    {
      "cell_type": "code",
      "metadata": {
        "colab": {
          "base_uri": "https://localhost:8080/",
          "height": 294
        },
        "id": "knERezUwO4PY",
        "outputId": "00e34d4e-2dda-48e3-a6df-0362722ae95e"
      },
      "source": [
        "# # Create first line of best fit\n",
        "# Line1 = linregress(df['Year'], df['CSIRO Adjusted Sea Level'])\n",
        "# slope_1, intercept_1, r_1, p_1, std_err_1 = Line1\n",
        "# plt.plot(range(df['Year'][0],2050), slope_1*range(df['Year'][0],2050)+intercept_1)\n",
        "# Line2 = linregress(df['Year'][df['Year']>=2000], df['CSIRO Adjusted Sea Level'][df['Year']>=2000])\n",
        "# slope_2, intercept_2, r_2, p_2, std_err_2 = Line2\n",
        "# plt.plot(range(2000,2050), slope_2*range(2000,2050) + intercept_2)\n",
        "# plt.scatter(df['Year'],df['CSIRO Adjusted Sea Level'])\n",
        "# plt.xlabel(\"Year\")\n",
        "# plt.ylabel('Sea Level (inches)')\n",
        "# plt.title('Rise in Sea Level') \n",
        "# plt.show()\n"
      ],
      "execution_count": null,
      "outputs": [
        {
          "output_type": "display_data",
          "data": {
            "image/png": "[encoded data removed]",
            "text/plain": [
              "<Figure size 432x288 with 1 Axes>"
            ]
          },
          "metadata": {
            "needs_background": "light"
          }
        }
      ]
    }
  ]
}