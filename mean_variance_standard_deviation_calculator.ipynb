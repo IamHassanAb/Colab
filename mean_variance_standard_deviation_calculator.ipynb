{
  "nbformat": 4,
  "nbformat_minor": 0,
  "metadata": {
    "colab": {
      "name": "mean-variance-standard-deviation-calculator.ipynb",
      "provenance": [],
      "authorship_tag": "ABX9TyOrFp4s8L8dM5Hduwqazr2T",
      "include_colab_link": true
    },
    "kernelspec": {
      "name": "python3",
      "display_name": "Python 3"
    },
    "language_info": {
      "name": "python"
    }
  },
  "cells": [
    {
      "cell_type": "markdown",
      "metadata": {
        "id": "view-in-github",
        "colab_type": "text"
      },
      "source": [
        "<a href=\"https://colab.research.google.com/github/IamHassanAb/Colab/blob/main/mean_variance_standard_deviation_calculator.ipynb\" target=\"_parent\"><img src=\"https://colab.research.google.com/assets/colab-badge.svg\" alt=\"Open In Colab\"/></a>"
      ]
    },
    {
      "cell_type": "markdown",
      "metadata": {
        "id": "UEMxxMzhptWi"
      },
      "source": [
        "### Assignment\n",
        "\n",
        "Create a function named `calculate()` in `mean_var_std.py` that uses Numpy to output the mean, variance, standard deviation, max, min, and sum of the rows, columns, and elements in a 3 x 3 matrix. \n",
        "\n",
        "The input of the function should be a list containing 9 digits. The function should convert the list into a 3 x 3 Numpy array, and then return a dictionary containing the mean, variance, standard deviation, max, min, and sum along both axes and for the flattened matrix. \n",
        "\n",
        "The returned dictionary should follow this format:\n",
        "```py\n",
        "{\n",
        "  'mean': [axis1, axis2, flattened],\n",
        "  'variance': [axis1, axis2, flattened],\n",
        "  'standard deviation': [axis1, axis2, flattened],\n",
        "  'max': [axis1, axis2, flattened],\n",
        "  'min': [axis1, axis2, flattened],\n",
        "  'sum': [axis1, axis2, flattened]\n",
        "}\n",
        "```\n",
        "\n",
        "If a list containing less than 9 elements is passed into the function, it should raise a `ValueError` exception with the message: \"List must contain nine numbers.\" The values in the returned dictionary should be lists and not Numpy arrays.\n",
        "\n",
        "For example, `calculate([0,1,2,3,4,5,6,7,8])` should return:\n",
        "```py\n",
        "{\n",
        "  'mean': [[3.0, 4.0, 5.0], [1.0, 4.0, 7.0], 4.0], \n",
        "  'variance': [[6.0, 6.0, 6.0], [0.6666666666666666, 0.6666666666666666, 0.6666666666666666], 6.666666666666667], \n",
        "  'standard deviation': [[2.449489742783178, 2.449489742783178, 2.449489742783178], [0.816496580927726, 0.816496580927726, 0.816496580927726], 2.581988897471611],\n",
        "  'max': [[6, 7, 8], [2, 5, 8], 8],\n",
        "  'min': [[0, 1, 2], [0, 3, 6], 0],\n",
        "  'sum': [[9, 12, 15], [3, 12, 21], 36]\n",
        "}\n",
        "```\n",
        "\n",
        "The unit tests for this project are in `test_module.py`.\n",
        "\n",
        "### Development\n",
        "\n",
        "For development, you can use `main.py` to test your `calculate()` function. Click the \"run\" button and `main.py` will run.\n",
        "\n",
        "### Testing \n",
        "\n",
        "We imported the tests from `test_module.py` to `main.py` for your convenience. The tests will run automatically whenever you hit the \"run\" button.\n",
        "\n",
        "### Submitting\n",
        "\n",
        "Copy your project's URL and submit it to freeCodeCamp.\n"
      ]
    },
    {
      "cell_type": "markdown",
      "metadata": {
        "id": "UopFqMS5rTDX"
      },
      "source": [
        "> ### ***Mean Variance Standard Deviation Calculator*** "
      ]
    },
    {
      "cell_type": "code",
      "metadata": {
        "id": "sj8TdcwTrV9e"
      },
      "source": [
        "import numpy as np"
      ],
      "execution_count": 36,
      "outputs": []
    },
    {
      "cell_type": "markdown",
      "metadata": {
        "id": "bhrvhi5OKgj1"
      },
      "source": [
        "***(Calculate Function)*** "
      ]
    },
    {
      "cell_type": "code",
      "metadata": {
        "id": "B2OIOoBhrpi-"
      },
      "source": [
        "def calculate(list):\n",
        "    if len(list) != 9:\n",
        "        raise ValueError('List must contain nine numbers.')\n",
        "    mat = np.array(list).reshape((3, 3))\n",
        "    f_mat = mat.flatten()\n",
        "\n",
        "    calculations = {\n",
        "        'mean': \n",
        "            [   \n",
        "                mat.mean(axis=0).tolist(), \n",
        "                mat.mean(axis=1).tolist(),\n",
        "                f_mat.mean()\n",
        "            ],\n",
        "        'variance': \n",
        "            [\n",
        "                mat.var(axis=0).tolist(),\n",
        "                mat.var(axis=1).tolist(), \n",
        "                f_mat.var()\n",
        "            ],\n",
        "        'standard deviation': \n",
        "            [\n",
        "                mat.std(axis=0).tolist(),\n",
        "                mat.std(axis=1).tolist(), \n",
        "                f_mat.std()\n",
        "            ],\n",
        "        'max': \n",
        "            [\n",
        "                mat.max(axis=0).tolist(), \n",
        "                mat.max(axis=1).tolist(),\n",
        "                f_mat.max()\n",
        "            ],\n",
        "        'min':\n",
        "            [\n",
        "                mat.min(axis=0).tolist(), \n",
        "                mat.min(axis=1).tolist(),\n",
        "                f_mat.min()\n",
        "            ],\n",
        "        'sum': \n",
        "            [\n",
        "                mat.sum(axis=0).tolist(), \n",
        "                mat.sum(axis=1).tolist(),\n",
        "                f_mat.sum()\n",
        "            ],\n",
        "        }\n",
        "    return calculations"
      ],
      "execution_count": 37,
      "outputs": []
    },
    {
      "cell_type": "markdown",
      "metadata": {
        "id": "0k-id3lZJmT2"
      },
      "source": [
        "***(Test Module)*** "
      ]
    },
    {
      "cell_type": "markdown",
      "metadata": {
        "id": "Xna3EA6nJssv"
      },
      "source": [
        "```py\n",
        "import unittest\n",
        "\n",
        "# the test case\n",
        "class UnitTests(unittest.TestCase):\n",
        "    def test_calculate(self):\n",
        "        actual = mean_var_std.calculate([2,6,2,8,4,0,1,5,7])\n",
        "        expected = {'mean': [[3.6666666666666665, 5.0, 3.0], [3.3333333333333335, 4.0, 4.333333333333333], 3.888888888888889], 'variance': [[9.555555555555557, 0.6666666666666666, 8.666666666666666], [3.555555555555556, 10.666666666666666, 6.222222222222221], 6.987654320987654], 'standard deviation': [[3.091206165165235, 0.816496580927726, 2.943920288775949], [1.8856180831641267, 3.265986323710904, 2.494438257849294], 2.6434171674156266], 'max': [[8, 6, 7], [6, 8, 7], 8], 'min': [[1, 4, 0], [2, 0, 1], 0], 'sum': [[11, 15, 9], [10, 12, 13], 35]}\n",
        "        self.assertAlmostEqual(actual, expected, \"Expected different output when calling 'calculate()' with '[2,6,2,8,4,0,1,5,7]'\")\n",
        "\n",
        "    def test_calculate2(self):\n",
        "        actual = mean_var_std.calculate([9,1,5,3,3,3,2,9,0])\n",
        "        expected = {'mean': [[4.666666666666667, 4.333333333333333, 2.6666666666666665], [5.0, 3.0, 3.6666666666666665], 3.888888888888889], 'variance': [[9.555555555555555, 11.555555555555557, 4.222222222222222], [10.666666666666666, 0.0, 14.888888888888891], 9.209876543209875], 'standard deviation': [[3.0912061651652345, 3.39934634239519, 2.0548046676563256], [3.265986323710904, 0.0, 3.8586123009300755], 3.0347778408328137], 'max': [[9, 9, 5], [9, 3, 9], 9], 'min': [[2, 1, 0], [1, 3, 0], 0], 'sum': [[14, 13, 8], [15, 9, 11], 35]}\n",
        "        self.assertAlmostEqual(actual, expected, \"Expected different output when calling 'calculate()' with '[9,1,5,3,3,3,2,9,0]'\")\n",
        "    \n",
        "    def test_calculate_with_few_digits(self):\n",
        "        self.assertRaisesRegex(ValueError, \"List must contain nine numbers.\", mean_var_std.calculate, [2,6,2,8,4,0,1,])\n",
        "\n",
        "if __name__ == \"__main__\":\n",
        "    unittest.main()\n",
        "```"
      ]
    },
    {
      "cell_type": "markdown",
      "metadata": {
        "id": "2oEqiFc3u1hx"
      },
      "source": [
        "***(Main Function)*** "
      ]
    },
    {
      "cell_type": "markdown",
      "metadata": {
        "id": "K9T2WsQSKpL-"
      },
      "source": [
        "```py\n",
        "# This entrypoint file to be used in development. Start by reading README.md\n",
        "from unittest import main\n",
        "\n",
        "print(calculate([0,1,2,3,4,5,6,7,8]))\n",
        "\n",
        "# Run unit tests automatically\n",
        "main(module='test_module', exit=False)\n",
        "\n",
        "```"
      ]
    },
    {
      "cell_type": "code",
      "metadata": {
        "colab": {
          "base_uri": "https://localhost:8080/"
        },
        "id": "jIlpXhDMvC5f",
        "outputId": "336fc62b-5a65-4310-8dd5-9339ed2c6fbd"
      },
      "source": [
        "#### For Test Use only ####\n",
        "\n",
        "# lst = list([2,6,2,8,4,0,1,5,7])\n",
        "# mat = np.array(lst).reshape((3,3))\n",
        "# f_mat = mat.flatten()\n",
        "\n",
        "# mat.mean(axis=0)\n",
        "\n",
        "# calculations = {\n",
        "#   'mean': [mat.mean(axis=0), mat.mean(axis=1), f_mat.mean()],\n",
        "#   'variance': [mat.var(axis=0), mat.var(axis=1), f_mat.var()],\n",
        "#   'standard deviation': [mat.std(axis=0), mat.std(axis=1), f_mat.std()],\n",
        "#   'max': [mat.max(axis=0), mat.max(axis=1), f_mat.max()],\n",
        "#   'min': [mat.min(axis=0), mat.min(axis=1), f_mat.min()],\n",
        "#   'sum': [mat.sum(axis=0), mat.sum(axis=1), f_mat.sum()]\n",
        "# }\n",
        "\n",
        "# print(calculations)\n",
        "# print(type(calculations))\n",
        "\n",
        "#### --------- ####"
      ],
      "execution_count": 38,
      "outputs": [
        {
          "output_type": "stream",
          "text": [
            "{'mean': [array([3.66666667, 5.        , 3.        ]), array([3.33333333, 4.        , 4.33333333]), 3.888888888888889], 'variance': [array([9.55555556, 0.66666667, 8.66666667]), array([ 3.55555556, 10.66666667,  6.22222222]), 6.987654320987654], 'standard deviation': [array([3.09120617, 0.81649658, 2.94392029]), array([1.88561808, 3.26598632, 2.49443826]), 2.6434171674156266], 'max': [array([8, 6, 7]), array([6, 8, 7]), 8], 'min': [array([1, 4, 0]), array([2, 0, 1]), 0], 'sum': [array([11, 15,  9]), array([10, 12, 13]), 35]}\n",
            "<class 'dict'>\n"
          ],
          "name": "stdout"
        }
      ]
    }
  ]
}
